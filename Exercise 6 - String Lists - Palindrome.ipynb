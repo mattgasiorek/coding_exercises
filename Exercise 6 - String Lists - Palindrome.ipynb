{
 "cells": [
  {
   "cell_type": "code",
   "execution_count": 2,
   "metadata": {},
   "outputs": [
    {
     "name": "stdout",
     "output_type": "stream",
     "text": [
      "The provided word is a palindrome! Go palindromes!\n"
     ]
    }
   ],
   "source": [
    "# Exercise 6 - String Lists - Palindromes\n",
    "# Ask the user for a string and print out whether this string is a palindrome or not. \n",
    "# (A palindrome is a string that reads the same forwards and backwards.)\n",
    "\n",
    "user_word = str(input('Please provide a word!'))\n",
    "reverse_user_word = user_word[::-1]\n",
    "if user_word == reverse_user_word:\n",
    "    print('The provided word is a palindrome! Go palindromes!')\n",
    "else:\n",
    "    print('This word is not a palindrome :-(')"
   ]
  }
 ],
 "metadata": {
  "kernelspec": {
   "display_name": "Python 3.10.5 64-bit",
   "language": "python",
   "name": "python3"
  },
  "language_info": {
   "codemirror_mode": {
    "name": "ipython",
    "version": 3
   },
   "file_extension": ".py",
   "mimetype": "text/x-python",
   "name": "python",
   "nbconvert_exporter": "python",
   "pygments_lexer": "ipython3",
   "version": "3.10.5"
  },
  "orig_nbformat": 4,
  "vscode": {
   "interpreter": {
    "hash": "26de051ba29f2982a8de78e945f0abaf191376122a1563185a90213a26c5da77"
   }
  }
 },
 "nbformat": 4,
 "nbformat_minor": 2
}
