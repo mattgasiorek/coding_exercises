{
 "cells": [
  {
   "cell_type": "code",
   "execution_count": 30,
   "metadata": {},
   "outputs": [],
   "source": [
    "# Exercise 9 - Random Numbers - Guessing Game\n",
    "\n",
    "# Generate a random number between 1 and 9 (including 1 and 9). \n",
    "# Ask the user to guess the number, then tell them whether they guessed too low, too high, or exactly right.\n",
    "\n",
    "# Extras:\n",
    "# Keep the game going until the user types “exit”\n",
    "# Keep track of how many guesses the user has taken, and when the game ends, print this out.\n",
    "\n",
    "\n",
    "# Notes:\n",
    "# First\n",
    "import random\n",
    "\n",
    "# Ask the player to guess a number between 1 and 9\n",
    "# generate the random number\n",
    "# iterate the number of guesses each time the player guesses\n",
    "# write conditions for >, < and = to the guess\n",
    "# make sure to give the player an exit"
   ]
  },
  {
   "cell_type": "code",
   "execution_count": 31,
   "metadata": {},
   "outputs": [
    {
     "name": "stdout",
     "output_type": "stream",
     "text": [
      "Your guess is below the number! You have attempted to guess the number 1 times.\n",
      "Your guess is below the number! You have attempted to guess the number 2 times.\n",
      "Your guess is above the random number! You have attempted to guess the number 3 times.\n",
      "Your guess is above the random number! You have attempted to guess the number 4 times.\n",
      "Your guess is below the number! You have attempted to guess the number 5 times.\n",
      "Your guess is below the number! You have attempted to guess the number 6 times.\n",
      "Your guess is above the random number! You have attempted to guess the number 7 times.\n",
      "You guessed correctly! Congratulations! You guessed the number in 8 attempts.\n",
      "Game Over! You guessed a total of 8 times.\n"
     ]
    }
   ],
   "source": [
    "num_guesses = 0\n",
    "running = True\n",
    "\n",
    "while running == True and guess_game != 'exit':\n",
    "    guess_game = input('Try to guess a random number between 1 and 9 (inclusive) (Type \"exit\" to exit the game)')\n",
    "    rand_num = random.randint(1, 9)\n",
    "    num_guesses += 1\n",
    "    \n",
    "    if guess_game == 'exit':\n",
    "        break    \n",
    "    elif int(guess_game) > rand_num:\n",
    "        print('Your guess is above the random number! You have attempted to guess the number {} times.'.format(num_guesses))\n",
    "    elif int(guess_game) < rand_num:\n",
    "        print('Your guess is below the number! You have attempted to guess the number {} times.'.format(num_guesses))\n",
    "    elif int(guess_game) == rand_num:\n",
    "        print('You guessed correctly! Congratulations! You guessed the number in {} attempts.'.format(num_guesses))\n",
    "    \n",
    "    \n",
    "if guess_game == 'exit':\n",
    "    print('Game Over! You guessed a total of {} times.'.format(num_guesses - 1))\n",
    "guess_game = 0"
   ]
  },
  {
   "cell_type": "code",
   "execution_count": null,
   "metadata": {},
   "outputs": [],
   "source": []
  }
 ],
 "metadata": {
  "kernelspec": {
   "display_name": "Python 3.10.5 64-bit",
   "language": "python",
   "name": "python3"
  },
  "language_info": {
   "codemirror_mode": {
    "name": "ipython",
    "version": 3
   },
   "file_extension": ".py",
   "mimetype": "text/x-python",
   "name": "python",
   "nbconvert_exporter": "python",
   "pygments_lexer": "ipython3",
   "version": "3.10.5"
  },
  "orig_nbformat": 4,
  "vscode": {
   "interpreter": {
    "hash": "26de051ba29f2982a8de78e945f0abaf191376122a1563185a90213a26c5da77"
   }
  }
 },
 "nbformat": 4,
 "nbformat_minor": 2
}
