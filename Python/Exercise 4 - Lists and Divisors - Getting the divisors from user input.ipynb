{
 "cells": [
  {
   "cell_type": "code",
   "execution_count": 6,
   "metadata": {},
   "outputs": [
    {
     "name": "stdout",
     "output_type": "stream",
     "text": [
      "[1, 13, 94111, 1223443]\n"
     ]
    }
   ],
   "source": [
    "# Exercise 4 - Divisors\n",
    "# Create a program that asks the user for a number and then prints out a list of all the divisors of that number. \n",
    "# (If you don’t know what a divisor is, it is a number that divides evenly into another number. \n",
    "# For example, 13 is a divisor of 26 because 26 / 13 has no remainder.)\n",
    "\n",
    "number = int(input('Please provide a number to find the divisors!'))\n",
    "\n",
    "number_list = list(range(1,number + 1))\n",
    "\n",
    "divisor_list = []\n",
    "\n",
    "for x in number_list:\n",
    "    if number % x == 0:\n",
    "        divisor_list.append(x)\n",
    "        \n",
    "print(divisor_list)"
   ]
  }
 ],
 "metadata": {
  "kernelspec": {
   "display_name": "Python 3.10.5 64-bit",
   "language": "python",
   "name": "python3"
  },
  "language_info": {
   "codemirror_mode": {
    "name": "ipython",
    "version": 3
   },
   "file_extension": ".py",
   "mimetype": "text/x-python",
   "name": "python",
   "nbconvert_exporter": "python",
   "pygments_lexer": "ipython3",
   "version": "3.10.5"
  },
  "orig_nbformat": 4,
  "vscode": {
   "interpreter": {
    "hash": "26de051ba29f2982a8de78e945f0abaf191376122a1563185a90213a26c5da77"
   }
  }
 },
 "nbformat": 4,
 "nbformat_minor": 2
}
