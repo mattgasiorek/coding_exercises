{
 "cells": [
  {
   "cell_type": "code",
   "execution_count": 39,
   "metadata": {},
   "outputs": [
    {
     "name": "stdout",
     "output_type": "stream",
     "text": [
      "[26, 18, 38, 58, 86, 84, 42, 10, 24, 28, 68, 50, 34, 12, 2, 90, 54, 60, 72, 76, 4]\n"
     ]
    }
   ],
   "source": [
    "# Exercise 7 - List Comprehensions - Extracting Even Numbers from a List\n",
    "\n",
    "# Let’s say I give you a list saved in a variable: \n",
    "import random\n",
    "\n",
    "a = random.sample(list(range(1,100)), k = 50)\n",
    "\n",
    "even_numbers = []\n",
    "\n",
    "for num in a:\n",
    "    if num % 2 == 0:\n",
    "        even_numbers.append(num)\n",
    "        \n",
    "print(even_numbers)"
   ]
  },
  {
   "cell_type": "code",
   "execution_count": 40,
   "metadata": {},
   "outputs": [
    {
     "name": "stdout",
     "output_type": "stream",
     "text": [
      "[26, 18, 38, 58, 86, 84, 42, 10, 24, 28, 68, 50, 34, 12, 2, 90, 54, 60, 72, 76, 4]\n"
     ]
    }
   ],
   "source": [
    "# Write one line of Python that takes this list a and makes a new list that has only the even elements of this list in it.\n",
    "\n",
    "even_numbers = [num for num in a if num % 2 == 0]\n",
    "\n",
    "print(even_numbers)"
   ]
  }
 ],
 "metadata": {
  "kernelspec": {
   "display_name": "Python 3.10.5 64-bit",
   "language": "python",
   "name": "python3"
  },
  "language_info": {
   "name": "python",
   "version": "3.10.5"
  },
  "orig_nbformat": 4,
  "vscode": {
   "interpreter": {
    "hash": "26de051ba29f2982a8de78e945f0abaf191376122a1563185a90213a26c5da77"
   }
  }
 },
 "nbformat": 4,
 "nbformat_minor": 2
}
