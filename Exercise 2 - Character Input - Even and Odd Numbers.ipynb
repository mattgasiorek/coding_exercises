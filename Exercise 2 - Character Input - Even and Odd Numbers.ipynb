{
 "cells": [
  {
   "cell_type": "code",
   "execution_count": 3,
   "metadata": {},
   "outputs": [],
   "source": [
    "# Ask the user for a number. \n",
    "# Depending on whether the number is even or odd, print out an appropriate message to the user. \n",
    "# Hint: how does an even / odd number react differently when divided by 2?\n",
    "\n",
    "# Extras:\n",
    "\n",
    "# 1. If the number is a multiple of 4, print out a different message.\n",
    "# 2. Ask the user for two numbers: \n",
    "# one number to check (call it num)\n",
    "# one number to divide by (check). \n",
    "# If check divides evenly into num, tell that to the user. If not, print a different appropriate message.\n"
   ]
  },
  {
   "cell_type": "code",
   "execution_count": 10,
   "metadata": {},
   "outputs": [
    {
     "name": "stdout",
     "output_type": "stream",
     "text": [
      "The number is even!\n"
     ]
    }
   ],
   "source": [
    "first_number = int(input('Please provide the first number.'))\n",
    "if first_number % 4 == 0:\n",
    "    print('This number is divisible by 4!')\n",
    "elif first_number % 2 == 0:\n",
    "    print('The number is even!')\n",
    "elif first_number % 3 == 0:\n",
    "    print('The number is odd!')"
   ]
  },
  {
   "cell_type": "code",
   "execution_count": 11,
   "metadata": {},
   "outputs": [
    {
     "name": "stdout",
     "output_type": "stream",
     "text": [
      "This number divides evenly into the first number!\n"
     ]
    }
   ],
   "source": [
    "second_number = int(input('Please provide the second number!'))\n",
    "if first_number % second_number == 0:\n",
    "    print('This number divides evenly into the first number!')\n",
    "else:\n",
    "    print('This number does not evenly divide into the first number :-/')"
   ]
  }
 ],
 "metadata": {
  "kernelspec": {
   "display_name": "Python 3.10.5 64-bit",
   "language": "python",
   "name": "python3"
  },
  "language_info": {
   "codemirror_mode": {
    "name": "ipython",
    "version": 3
   },
   "file_extension": ".py",
   "mimetype": "text/x-python",
   "name": "python",
   "nbconvert_exporter": "python",
   "pygments_lexer": "ipython3",
   "version": "3.10.5"
  },
  "orig_nbformat": 4,
  "vscode": {
   "interpreter": {
    "hash": "26de051ba29f2982a8de78e945f0abaf191376122a1563185a90213a26c5da77"
   }
  }
 },
 "nbformat": 4,
 "nbformat_minor": 2
}
