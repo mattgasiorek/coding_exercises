{
 "cells": [
  {
   "cell_type": "code",
   "execution_count": 202,
   "metadata": {},
   "outputs": [],
   "source": [
    "# Exercise 10 - List Overlap Comprehensions - Common Elements Between Lists\n",
    "\n",
    "# Take two lists, say for example these two:\n",
    "\n",
    "import random\n",
    "\n",
    "a = random.sample(list(range(1,100)), k = 50)\n",
    "b = random.sample(list(range(1,100)), k = 22)\n",
    "\n",
    "# and write a program that returns a list that contains only the elements \n",
    "# that are common between the lists (without duplicates). \n",
    "# Make sure your program works on two lists of different sizes. \n",
    "# Write this using at least one list comprehension. \n",
    "\n",
    "# Extras:\n",
    "# Randomly generate two lists to test this\n",
    "\n",
    "# Notes:\n",
    "\n",
    "# First import random\n",
    "# then give lists a and b a random sample\n",
    "# finally, we make a for loop that adds each common number between the lists to a new list\n",
    "# without duplicates"
   ]
  },
  {
   "cell_type": "code",
   "execution_count": 203,
   "metadata": {},
   "outputs": [
    {
     "name": "stdout",
     "output_type": "stream",
     "text": [
      "[86, 90, 96, 17, 12, 33, 48, 68, 76, 41]\n"
     ]
    }
   ],
   "source": [
    "new_list = []\n",
    "\n",
    "for number in a:\n",
    "    if number in b:\n",
    "        new_list.append(number)\n",
    "        \n",
    "print(new_list)"
   ]
  }
 ],
 "metadata": {
  "kernelspec": {
   "display_name": "Python 3.10.5 64-bit",
   "language": "python",
   "name": "python3"
  },
  "language_info": {
   "codemirror_mode": {
    "name": "ipython",
    "version": 3
   },
   "file_extension": ".py",
   "mimetype": "text/x-python",
   "name": "python",
   "nbconvert_exporter": "python",
   "pygments_lexer": "ipython3",
   "version": "3.10.5"
  },
  "orig_nbformat": 4,
  "vscode": {
   "interpreter": {
    "hash": "26de051ba29f2982a8de78e945f0abaf191376122a1563185a90213a26c5da77"
   }
  }
 },
 "nbformat": 4,
 "nbformat_minor": 2
}
