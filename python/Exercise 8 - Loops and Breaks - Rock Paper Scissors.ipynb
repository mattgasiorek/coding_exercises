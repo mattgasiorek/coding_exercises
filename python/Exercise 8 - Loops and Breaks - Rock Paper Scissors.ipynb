{
 "cells": [
  {
   "cell_type": "code",
   "execution_count": null,
   "metadata": {},
   "outputs": [],
   "source": [
    "# Exercise 8 - Loops and Breaks - Rock Paper Scissors\n",
    "\n",
    "# Make a two-player Rock-Paper-Scissors game. \n",
    "# (Hint: Ask for player plays (using input), compare them, print out a message of congratulations to the winner, and ask if the players want to start a new game)\n",
    "\n",
    "# Remember the rules:\n",
    "\n",
    "# Rock beats scissors\n",
    "# Scissors beats paper\n",
    "# Paper beats rock\n",
    "\n",
    "\n",
    "\n",
    "# notes:\n",
    "# ask the player for an input to start the game\n",
    "\n",
    "# ask player 1 for their choice (rock, paper, scissors)\n",
    "\n",
    "# ask player 2 for their choice (rock, paper, scissors)\n",
    "\n",
    "# if player 1 = rock and player 2 = scissors, print out that player 1 wins etc. and etc. for other choices\n",
    "\n",
    "# message for if they tie\n",
    "\n",
    "# at the end, ask if they want to continue with a new game\n",
    "\n"
   ]
  },
  {
   "cell_type": "code",
   "execution_count": null,
   "metadata": {},
   "outputs": [],
   "source": [
    "rps_game = input('Would you like to play Rock Paper Scissors? (\"y\" for yes, \"n\" for no)')\n",
    "while rps_game == 'y':\n",
    "    p1_choice = input('Player 1, please choose rock (r), paper (p), or scissors (s).')\n",
    "    p2_choice = input('Player 2, please choose rock (r), paper (p), or scissors (s).')\n",
    "    \n",
    "    if p1_choice == 'r' and p2_choice == 's':\n",
    "        print('Player 1 Wins!!!')\n",
    "    elif p1_choice == 'p' and p2_choice == 'r':\n",
    "        print('Player 1 Wins!!!')\n",
    "    elif p1_choice == 's' and p2_choice == 'p':\n",
    "        print('Player 1 Wins!!!')\n",
    "    elif p1_choice == p2_choice:\n",
    "        print('Tie Game!!!')\n",
    "    else:\n",
    "        print(\"Player 2 Wins!!!\")\n",
    "    \n",
    "    rps_game = input('Would you like to play again? (\"y\" for yes, \"n\" for no)')\n",
    "else:\n",
    "    print('Game Over!')"
   ]
  }
 ],
 "metadata": {
  "kernelspec": {
   "display_name": "Python 3.10.5 64-bit",
   "language": "python",
   "name": "python3"
  },
  "language_info": {
   "codemirror_mode": {
    "name": "ipython",
    "version": 3
   },
   "file_extension": ".py",
   "mimetype": "text/x-python",
   "name": "python",
   "nbconvert_exporter": "python",
   "pygments_lexer": "ipython3",
   "version": "3.10.5"
  },
  "orig_nbformat": 4,
  "vscode": {
   "interpreter": {
    "hash": "26de051ba29f2982a8de78e945f0abaf191376122a1563185a90213a26c5da77"
   }
  }
 },
 "nbformat": 4,
 "nbformat_minor": 2
}
