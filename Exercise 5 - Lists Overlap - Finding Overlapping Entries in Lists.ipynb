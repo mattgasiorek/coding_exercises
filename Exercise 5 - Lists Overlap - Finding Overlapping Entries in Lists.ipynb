{
 "cells": [
  {
   "cell_type": "code",
   "execution_count": 25,
   "metadata": {},
   "outputs": [
    {
     "name": "stdout",
     "output_type": "stream",
     "text": [
      "[1, 1, 2, 3, 5, 8, 13]\n"
     ]
    }
   ],
   "source": [
    "# Exercise 5 - List Overlap\n",
    "# Take two lists, say for example these two:\n",
    "\n",
    "a = [1, 1, 2, 3, 5, 8, 13, 21, 34, 55, 89]\n",
    "b = [1, 2, 3, 4, 5, 6, 7, 8, 9, 10, 11, 12, 13]\n",
    "\n",
    "# and write a program that returns a list that contains only \n",
    "# the elements that are common between the lists (without duplicates). \n",
    "# Make sure your program works on two lists of different sizes.\n",
    "\n",
    "combined_list = []\n",
    "\n",
    "# for every number in a\n",
    "for number in a:\n",
    "    # if the number is in b\n",
    "    if number in b:\n",
    "        # insert it into the combined_list list\n",
    "        combined_list.append(number)\n",
    "\n",
    "print(combined_list)"
   ]
  },
  {
   "cell_type": "code",
   "execution_count": 40,
   "metadata": {},
   "outputs": [
    {
     "name": "stdout",
     "output_type": "stream",
     "text": [
      "[31, 50, 13, 59, 68, 27, 66]\n"
     ]
    }
   ],
   "source": [
    "# Extras:\n",
    "# Randomly generate two lists to test this\n",
    "\n",
    "# import the random library\n",
    "import random\n",
    "\n",
    "# insert a random sample between this range of numbers and this many numbers into rand_a and rand_b\n",
    "rand_a = random.sample(range(1, 100), 25)\n",
    "rand_b = random.sample(range(1, 200), 50)\n",
    "\n",
    "combined_list = []\n",
    "\n",
    "for number in rand_a:\n",
    "    if number in rand_b:\n",
    "        combined_list.append(number)\n",
    "\n",
    "print(combined_list)"
   ]
  },
  {
   "cell_type": "code",
   "execution_count": 41,
   "metadata": {},
   "outputs": [],
   "source": [
    "# Write this in one line of Python \n",
    "# (don’t worry if you can’t figure this out at this point - we’ll get to it soon)"
   ]
  }
 ],
 "metadata": {
  "kernelspec": {
   "display_name": "Python 3.10.5 64-bit",
   "language": "python",
   "name": "python3"
  },
  "language_info": {
   "codemirror_mode": {
    "name": "ipython",
    "version": 3
   },
   "file_extension": ".py",
   "mimetype": "text/x-python",
   "name": "python",
   "nbconvert_exporter": "python",
   "pygments_lexer": "ipython3",
   "version": "3.10.5"
  },
  "orig_nbformat": 4,
  "vscode": {
   "interpreter": {
    "hash": "26de051ba29f2982a8de78e945f0abaf191376122a1563185a90213a26c5da77"
   }
  }
 },
 "nbformat": 4,
 "nbformat_minor": 2
}
