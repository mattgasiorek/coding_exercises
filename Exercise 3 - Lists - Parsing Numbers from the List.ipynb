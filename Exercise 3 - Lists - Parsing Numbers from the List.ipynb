{
 "cells": [
  {
   "cell_type": "code",
   "execution_count": 25,
   "metadata": {},
   "outputs": [
    {
     "name": "stdout",
     "output_type": "stream",
     "text": [
      "1\n",
      "1\n",
      "2\n",
      "3\n"
     ]
    }
   ],
   "source": [
    "# Take a list, say for example this one:\n",
    "\n",
    "first_list = [1, 1, 2, 3, 5, 8, 13, 21, 34, 55, 89]\n",
    "\n",
    "# and write a program that prints out all the elements of the list that are less than 5.\n",
    "\n",
    "for num in first_list:\n",
    "    if num < 5:\n",
    "        print(num)"
   ]
  },
  {
   "cell_type": "code",
   "execution_count": 26,
   "metadata": {},
   "outputs": [
    {
     "name": "stdout",
     "output_type": "stream",
     "text": [
      "[1, 1, 2, 3]\n"
     ]
    }
   ],
   "source": [
    "# Extras:\n",
    "# 1. Instead of printing the elements one by one, \n",
    "# make a new list that has all the elements less than 5 from this list in it \n",
    "# and print out this new list.\n",
    "\n",
    "new_list=[]\n",
    "\n",
    "for num in first_list:\n",
    "    if num < 5:\n",
    "        new_list.append(num)\n",
    "\n",
    "print(new_list)"
   ]
  },
  {
   "cell_type": "code",
   "execution_count": 27,
   "metadata": {},
   "outputs": [
    {
     "name": "stdout",
     "output_type": "stream",
     "text": [
      "[1, 1, 2, 3]\n"
     ]
    }
   ],
   "source": [
    "# 2. Write this in one line of Python.\n",
    "## needed help with this one!\n",
    "print( [ x for x in a if x<5 ] )"
   ]
  },
  {
   "cell_type": "code",
   "execution_count": 28,
   "metadata": {},
   "outputs": [
    {
     "name": "stdout",
     "output_type": "stream",
     "text": [
      "[1, 1, 2, 3, 5, 8, 13, 21, 34, 55, 89]\n"
     ]
    }
   ],
   "source": [
    "# 3. Ask the user for a number and return a list that contains only elements from the original list \n",
    "# that are smaller than that number given by the user.\n",
    "\n",
    "last_list=[]\n",
    "\n",
    "user_num = int(input('Please provide a number! We will display all numbers less than in the given list!'))\n",
    "\n",
    "for num in first_list:\n",
    "    if num < user_num:\n",
    "        last_list.append(num)\n",
    "\n",
    "print(last_list)"
   ]
  }
 ],
 "metadata": {
  "kernelspec": {
   "display_name": "Python 3.10.5 64-bit",
   "language": "python",
   "name": "python3"
  },
  "language_info": {
   "name": "python",
   "version": "3.10.5"
  },
  "orig_nbformat": 4,
  "vscode": {
   "interpreter": {
    "hash": "26de051ba29f2982a8de78e945f0abaf191376122a1563185a90213a26c5da77"
   }
  }
 },
 "nbformat": 4,
 "nbformat_minor": 2
}
